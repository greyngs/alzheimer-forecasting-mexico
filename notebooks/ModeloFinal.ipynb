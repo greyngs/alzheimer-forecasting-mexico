{
 "cells": [
  {
   "cell_type": "markdown",
   "id": "b0428628",
   "metadata": {},
   "source": [
    "# Avance 5. Modelo final\n",
    "## Proyecto Integrador MNA - Alzheimer"
   ]
  },
  {
   "cell_type": "markdown",
   "id": "45a78a6e",
   "metadata": {},
   "source": [
    "### 1. Importación de librerías"
   ]
  },
  {
   "cell_type": "code",
   "execution_count": 100,
   "id": "69a626c4",
   "metadata": {},
   "outputs": [
    {
     "name": "stdout",
     "output_type": "stream",
     "text": [
      "Librerías importadas exitosamente.\n"
     ]
    }
   ],
   "source": [
    "# Núcleo y Manipulación de Datos\n",
    "import pandas as pd\n",
    "import numpy as np\n",
    "import time\n",
    "import itertools\n",
    "\n",
    "# Visualización\n",
    "import matplotlib.pyplot as plt\n",
    "import seaborn as sns\n",
    "\n",
    "# Modelos Individuales\n",
    "from prophet import Prophet\n",
    "from statsmodels.tsa.statespace.sarimax import SARIMAX\n",
    "\n",
    "# Modelos de Ensamble\n",
    "import xgboost as xgb\n",
    "from sklearn.ensemble import StackingRegressor\n",
    "from sklearn.linear_model import LinearRegression\n",
    "\n",
    "# Evaluación y Métricas\n",
    "from sklearn.model_selection import GridSearchCV, TimeSeriesSplit\n",
    "from sklearn.metrics import mean_absolute_error, mean_squared_error, mean_absolute_percentage_error\n",
    "\n",
    "# Ignorar advertencias para una salida limpia\n",
    "import warnings\n",
    "warnings.filterwarnings(\"ignore\")\n",
    "\n",
    "print(\"Librerías importadas exitosamente.\")"
   ]
  },
  {
   "cell_type": "markdown",
   "id": "efc572c9",
   "metadata": {},
   "source": [
    "### 2. Carga y Preparación de Datos"
   ]
  },
  {
   "cell_type": "markdown",
   "id": "7e74cc8a",
   "metadata": {},
   "source": [
    "#### 2.1 Carga de Datos"
   ]
  },
  {
   "cell_type": "code",
   "execution_count": 101,
   "id": "b6b3a40b",
   "metadata": {},
   "outputs": [
    {
     "data": {
      "text/html": [
       "<div>\n",
       "<style scoped>\n",
       "    .dataframe tbody tr th:only-of-type {\n",
       "        vertical-align: middle;\n",
       "    }\n",
       "\n",
       "    .dataframe tbody tr th {\n",
       "        vertical-align: top;\n",
       "    }\n",
       "\n",
       "    .dataframe thead th {\n",
       "        text-align: right;\n",
       "    }\n",
       "</style>\n",
       "<table border=\"1\" class=\"dataframe\">\n",
       "  <thead>\n",
       "    <tr style=\"text-align: right;\">\n",
       "      <th></th>\n",
       "      <th>Year</th>\n",
       "      <th>Week</th>\n",
       "      <th>Date</th>\n",
       "      <th>Entity</th>\n",
       "      <th>Epi_Year</th>\n",
       "      <th>total_cases</th>\n",
       "    </tr>\n",
       "  </thead>\n",
       "  <tbody>\n",
       "    <tr>\n",
       "      <th>0</th>\n",
       "      <td>2014</td>\n",
       "      <td>2</td>\n",
       "      <td>2014-01-13</td>\n",
       "      <td>Aguascalientes</td>\n",
       "      <td>2014</td>\n",
       "      <td>0.0</td>\n",
       "    </tr>\n",
       "    <tr>\n",
       "      <th>1</th>\n",
       "      <td>2014</td>\n",
       "      <td>3</td>\n",
       "      <td>2014-01-20</td>\n",
       "      <td>Aguascalientes</td>\n",
       "      <td>2014</td>\n",
       "      <td>0.0</td>\n",
       "    </tr>\n",
       "    <tr>\n",
       "      <th>2</th>\n",
       "      <td>2014</td>\n",
       "      <td>4</td>\n",
       "      <td>2014-01-27</td>\n",
       "      <td>Aguascalientes</td>\n",
       "      <td>2014</td>\n",
       "      <td>0.0</td>\n",
       "    </tr>\n",
       "    <tr>\n",
       "      <th>3</th>\n",
       "      <td>2014</td>\n",
       "      <td>5</td>\n",
       "      <td>2014-02-03</td>\n",
       "      <td>Aguascalientes</td>\n",
       "      <td>2014</td>\n",
       "      <td>0.0</td>\n",
       "    </tr>\n",
       "    <tr>\n",
       "      <th>4</th>\n",
       "      <td>2014</td>\n",
       "      <td>6</td>\n",
       "      <td>2014-02-10</td>\n",
       "      <td>Aguascalientes</td>\n",
       "      <td>2014</td>\n",
       "      <td>0.0</td>\n",
       "    </tr>\n",
       "  </tbody>\n",
       "</table>\n",
       "</div>"
      ],
      "text/plain": [
       "   Year  Week        Date          Entity  Epi_Year  total_cases\n",
       "0  2014     2  2014-01-13  Aguascalientes      2014          0.0\n",
       "1  2014     3  2014-01-20  Aguascalientes      2014          0.0\n",
       "2  2014     4  2014-01-27  Aguascalientes      2014          0.0\n",
       "3  2014     5  2014-02-03  Aguascalientes      2014          0.0\n",
       "4  2014     6  2014-02-10  Aguascalientes      2014          0.0"
      ]
     },
     "execution_count": 101,
     "metadata": {},
     "output_type": "execute_result"
    }
   ],
   "source": [
    "# --- CARGA DE DATOS ---\n",
    "# Se carga el archivo CSV procesado a nivel nacional.\n",
    "path = r'../data/processed/data_processed_v3_NoAcum_Total.csv'\n",
    "df_national = pd.read_csv(path)\n",
    "df_national.head()"
   ]
  },
  {
   "cell_type": "markdown",
   "id": "0d2faf24",
   "metadata": {},
   "source": [
    "#### 2.2 Preparación Para Prophet y SARIMAX"
   ]
  },
  {
   "cell_type": "code",
   "execution_count": 102,
   "id": "95c2419c",
   "metadata": {},
   "outputs": [
    {
     "name": "stdout",
     "output_type": "stream",
     "text": [
      "Datos Univariados (df_ts) listos con 572 filas.\n"
     ]
    },
    {
     "data": {
      "text/html": [
       "<div>\n",
       "<style scoped>\n",
       "    .dataframe tbody tr th:only-of-type {\n",
       "        vertical-align: middle;\n",
       "    }\n",
       "\n",
       "    .dataframe tbody tr th {\n",
       "        vertical-align: top;\n",
       "    }\n",
       "\n",
       "    .dataframe thead th {\n",
       "        text-align: right;\n",
       "    }\n",
       "</style>\n",
       "<table border=\"1\" class=\"dataframe\">\n",
       "  <thead>\n",
       "    <tr style=\"text-align: right;\">\n",
       "      <th></th>\n",
       "      <th>total_cases</th>\n",
       "    </tr>\n",
       "    <tr>\n",
       "      <th>Date</th>\n",
       "      <th></th>\n",
       "    </tr>\n",
       "  </thead>\n",
       "  <tbody>\n",
       "    <tr>\n",
       "      <th>2014-01-13</th>\n",
       "      <td>4.0</td>\n",
       "    </tr>\n",
       "    <tr>\n",
       "      <th>2014-01-20</th>\n",
       "      <td>29.0</td>\n",
       "    </tr>\n",
       "    <tr>\n",
       "      <th>2014-01-27</th>\n",
       "      <td>47.0</td>\n",
       "    </tr>\n",
       "    <tr>\n",
       "      <th>2014-02-03</th>\n",
       "      <td>36.0</td>\n",
       "    </tr>\n",
       "    <tr>\n",
       "      <th>2014-02-10</th>\n",
       "      <td>42.0</td>\n",
       "    </tr>\n",
       "  </tbody>\n",
       "</table>\n",
       "</div>"
      ],
      "text/plain": [
       "            total_cases\n",
       "Date                   \n",
       "2014-01-13          4.0\n",
       "2014-01-20         29.0\n",
       "2014-01-27         47.0\n",
       "2014-02-03         36.0\n",
       "2014-02-10         42.0"
      ]
     },
     "execution_count": 102,
     "metadata": {},
     "output_type": "execute_result"
    }
   ],
   "source": [
    "# --- PREPARACIÓN DE DATOS (TIPO 1: UNIVARIADO) ---\n",
    "# Para Prophet y SARIMAX\n",
    "\n",
    "# Se crea la base de datos (df_ts) con índice de tiempo y frecuencia semanal\n",
    "df_ts = df_national.copy()\n",
    "df_ts['Date'] = pd.to_datetime(df_ts['Date'])\n",
    "df_ts = df_ts.groupby('Date', as_index=False)['total_cases'].sum()\n",
    "df_ts = df_ts.set_index('Date')\n",
    "df_ts = df_ts.asfreq('W-MON') # Se usa Lunes\n",
    "df_ts['total_cases'] = df_ts['total_cases'].fillna(0) # Se rellenan huecos\n",
    "\n",
    "print(f\"Datos Univariados (df_ts) listos con {len(df_ts)} filas.\")\n",
    "\n",
    "df_ts.head()"
   ]
  },
  {
   "cell_type": "markdown",
   "id": "81351f22",
   "metadata": {},
   "source": [
    "#### 2.3 Preparación Para XGBoost y Stacking"
   ]
  },
  {
   "cell_type": "code",
   "execution_count": 103,
   "id": "aeb38361",
   "metadata": {},
   "outputs": [
    {
     "name": "stdout",
     "output_type": "stream",
     "text": [
      "Datos con Características (df_fe) listos con 568 filas.\n"
     ]
    },
    {
     "data": {
      "text/html": [
       "<div>\n",
       "<style scoped>\n",
       "    .dataframe tbody tr th:only-of-type {\n",
       "        vertical-align: middle;\n",
       "    }\n",
       "\n",
       "    .dataframe tbody tr th {\n",
       "        vertical-align: top;\n",
       "    }\n",
       "\n",
       "    .dataframe thead th {\n",
       "        text-align: right;\n",
       "    }\n",
       "</style>\n",
       "<table border=\"1\" class=\"dataframe\">\n",
       "  <thead>\n",
       "    <tr style=\"text-align: right;\">\n",
       "      <th></th>\n",
       "      <th>total_cases</th>\n",
       "      <th>Lag_1</th>\n",
       "      <th>Lag_2</th>\n",
       "      <th>Lag_3</th>\n",
       "      <th>Lag_4</th>\n",
       "      <th>Media_Movil_4</th>\n",
       "      <th>Std_Movil_4</th>\n",
       "      <th>Mes</th>\n",
       "      <th>Semana_del_Año</th>\n",
       "    </tr>\n",
       "    <tr>\n",
       "      <th>Date</th>\n",
       "      <th></th>\n",
       "      <th></th>\n",
       "      <th></th>\n",
       "      <th></th>\n",
       "      <th></th>\n",
       "      <th></th>\n",
       "      <th></th>\n",
       "      <th></th>\n",
       "      <th></th>\n",
       "    </tr>\n",
       "  </thead>\n",
       "  <tbody>\n",
       "    <tr>\n",
       "      <th>2014-02-10</th>\n",
       "      <td>42.0</td>\n",
       "      <td>36.0</td>\n",
       "      <td>47.0</td>\n",
       "      <td>29.0</td>\n",
       "      <td>4.0</td>\n",
       "      <td>38.50</td>\n",
       "      <td>7.767453</td>\n",
       "      <td>2</td>\n",
       "      <td>7</td>\n",
       "    </tr>\n",
       "    <tr>\n",
       "      <th>2014-02-17</th>\n",
       "      <td>30.0</td>\n",
       "      <td>42.0</td>\n",
       "      <td>36.0</td>\n",
       "      <td>47.0</td>\n",
       "      <td>29.0</td>\n",
       "      <td>38.75</td>\n",
       "      <td>7.365460</td>\n",
       "      <td>2</td>\n",
       "      <td>8</td>\n",
       "    </tr>\n",
       "    <tr>\n",
       "      <th>2014-02-24</th>\n",
       "      <td>45.0</td>\n",
       "      <td>30.0</td>\n",
       "      <td>42.0</td>\n",
       "      <td>36.0</td>\n",
       "      <td>47.0</td>\n",
       "      <td>38.25</td>\n",
       "      <td>6.652067</td>\n",
       "      <td>2</td>\n",
       "      <td>9</td>\n",
       "    </tr>\n",
       "    <tr>\n",
       "      <th>2014-03-03</th>\n",
       "      <td>34.0</td>\n",
       "      <td>45.0</td>\n",
       "      <td>30.0</td>\n",
       "      <td>42.0</td>\n",
       "      <td>36.0</td>\n",
       "      <td>37.75</td>\n",
       "      <td>6.946222</td>\n",
       "      <td>3</td>\n",
       "      <td>10</td>\n",
       "    </tr>\n",
       "    <tr>\n",
       "      <th>2014-03-10</th>\n",
       "      <td>28.0</td>\n",
       "      <td>34.0</td>\n",
       "      <td>45.0</td>\n",
       "      <td>30.0</td>\n",
       "      <td>42.0</td>\n",
       "      <td>34.25</td>\n",
       "      <td>7.588368</td>\n",
       "      <td>3</td>\n",
       "      <td>11</td>\n",
       "    </tr>\n",
       "  </tbody>\n",
       "</table>\n",
       "</div>"
      ],
      "text/plain": [
       "            total_cases  Lag_1  Lag_2  Lag_3  Lag_4  Media_Movil_4  \\\n",
       "Date                                                                 \n",
       "2014-02-10         42.0   36.0   47.0   29.0    4.0          38.50   \n",
       "2014-02-17         30.0   42.0   36.0   47.0   29.0          38.75   \n",
       "2014-02-24         45.0   30.0   42.0   36.0   47.0          38.25   \n",
       "2014-03-03         34.0   45.0   30.0   42.0   36.0          37.75   \n",
       "2014-03-10         28.0   34.0   45.0   30.0   42.0          34.25   \n",
       "\n",
       "            Std_Movil_4  Mes  Semana_del_Año  \n",
       "Date                                          \n",
       "2014-02-10     7.767453    2               7  \n",
       "2014-02-17     7.365460    2               8  \n",
       "2014-02-24     6.652067    2               9  \n",
       "2014-03-03     6.946222    3              10  \n",
       "2014-03-10     7.588368    3              11  "
      ]
     },
     "execution_count": 103,
     "metadata": {},
     "output_type": "execute_result"
    }
   ],
   "source": [
    "# --- PREPARACIÓN DE DATOS (TIPO 2: CON CARACTERÍSTICAS) ---\n",
    "# Para XGBoost y Stacking\n",
    "\n",
    "df_fe = df_ts.copy()\n",
    "\n",
    "# Se crean características (lags, ventanas móviles, fecha)\n",
    "window = 4\n",
    "df_fe['Lag_1'] = df_fe['total_cases'].shift(1)\n",
    "df_fe['Lag_2'] = df_fe['total_cases'].shift(2)\n",
    "df_fe['Lag_3'] = df_fe['total_cases'].shift(3)\n",
    "df_fe['Lag_4'] = df_fe['total_cases'].shift(4)\n",
    "df_fe['Media_Movil_4'] = df_fe['total_cases'].rolling(window=window).mean()\n",
    "df_fe['Std_Movil_4'] = df_fe['total_cases'].rolling(window=window).std()\n",
    "df_fe['Mes'] = df_fe.index.month\n",
    "df_fe['Semana_del_Año'] = df_fe.index.isocalendar().week.astype(int)\n",
    "\n",
    "# Se eliminan los NaNs generados por los lags y rolling windows\n",
    "df_fe.dropna(inplace=True)\n",
    "\n",
    "print(f\"Datos con Características (df_fe) listos con {len(df_fe)} filas.\")\n",
    "\n",
    "df_fe.head()\n"
   ]
  },
  {
   "cell_type": "markdown",
   "id": "89031e04",
   "metadata": {},
   "source": [
    "#### 2.4 División de conjuntos (TRAIN/TEST)"
   ]
  },
  {
   "cell_type": "code",
   "execution_count": 104,
   "id": "bef9d6c4",
   "metadata": {},
   "outputs": [
    {
     "name": "stdout",
     "output_type": "stream",
     "text": [
      "\n",
      "División de datos completada.\n",
      "Registros de entrenamiento (train_fe): 453\n",
      "Registros de prueba (test_fe):     115\n"
     ]
    }
   ],
   "source": [
    "# --- DIVISIÓN DE DATOS (TRAIN/TEST) ---\n",
    "\n",
    "# Se define el punto de corte (80/20)\n",
    "split_idx = int(len(df_ts) * 0.8)\n",
    "\n",
    "# --- Split para datos Univariados (Prophet, SARIMAX) ---\n",
    "train_ts = df_ts[:split_idx].copy()\n",
    "test_ts  = df_ts[split_idx:].copy()\n",
    "\n",
    "# --- Split para datos con Características (XGBoost, Stacking) ---\n",
    "# Se asegura que la división sea en el mismo punto exacto.\n",
    "# Se busca la fecha de inicio del set de prueba univariado.\n",
    "test_start_date = test_ts.index[0]\n",
    "\n",
    "train_fe = df_fe[df_fe.index < test_start_date].copy()\n",
    "test_fe  = df_fe[df_fe.index >= test_start_date].copy()\n",
    "\n",
    "# Se definen los X (features) e y (target) para los modelos de ML\n",
    "X_train = train_fe.drop('total_cases', axis=1)\n",
    "y_train = train_fe['total_cases']\n",
    "X_test = test_fe.drop('total_cases', axis=1)\n",
    "y_test = test_fe['total_cases']\n",
    "\n",
    "print(\"\\nDivisión de datos completada.\")\n",
    "print(f\"Registros de entrenamiento (train_fe): {len(train_fe)}\")\n",
    "print(f\"Registros de prueba (test_fe):     {len(test_fe)}\")"
   ]
  },
  {
   "cell_type": "markdown",
   "id": "359b69e6",
   "metadata": {},
   "source": [
    "### 3. Ensamble Homogéneo (XGBoost)"
   ]
  },
  {
   "cell_type": "markdown",
   "id": "c8fd2b34",
   "metadata": {},
   "source": [
    "Se implementará un modelo XGBRegressor (Extreme Gradient Boosting). Esta es una técnica de ensamble homogéneo de tipo boosting, lo que significa que construye cientos de árboles de decisión de forma secuencial, donde cada nuevo árbol aprende de los errores del anterior.\n",
    "\n",
    "Se aplicará GridSearchCV (Búsqueda en Rejilla) para encontrar la mejor combinación de hiperparámetros.\n",
    "\n",
    "Dado que estamos trabajando con series de tiempo, no se puede usar la validación cruzada estándar (que mezcla los datos aleatoriamente). En su lugar, se utilizará TimeSeriesSplit, que asegura que los datos de validación siempre sean posteriores a los datos de entrenamiento, simulando un escenario de pronóstico real."
   ]
  },
  {
   "cell_type": "markdown",
   "id": "758bde36",
   "metadata": {},
   "source": [
    "#### 3.1 Configuración de parámetros de GridSearch para el modelo XGBoost"
   ]
  },
  {
   "cell_type": "code",
   "execution_count": 105,
   "id": "012b95fd",
   "metadata": {},
   "outputs": [
    {
     "name": "stdout",
     "output_type": "stream",
     "text": [
      "--- Iniciando Modelo XGBoost ---\n",
      "Configuración de GridSearch para XGBoost terminada...\n"
     ]
    }
   ],
   "source": [
    "# --- MODELO DE ENSAMBLE HOMOGÉNEO (XGBoost) ---\n",
    "\n",
    "print(\"--- Iniciando Modelo XGBoost ---\")\n",
    "results_summary = {} # Se inicializa el diccionario\n",
    "\n",
    "# --- Configuración de parámetros del modelo y GridSearch ---\n",
    "\n",
    "# Se define el modelo base\n",
    "xgb_model = xgb.XGBRegressor(objective='reg:squarederror', random_state=42)\n",
    "\n",
    "# --- Se define una rejilla de parámetros ---\n",
    "param_grid_xgb = {\n",
    "    'n_estimators': [300, 500, 1000],  # Número de árboles\n",
    "    'max_depth': [3, 5, 7],            # Profundidad máxima\n",
    "    'learning_rate': [0.01, 0.1],    # Tasa de aprendizaje\n",
    "    'subsample': [0.7, 1.0]            # Fracción de datos a usar por cada árbol\n",
    "}\n",
    "# Total de combinaciones: 3 * 3 * 2 * 2 = 36 combinaciones\n",
    "\n",
    "# Se define la estrategia de validación cruzada para series de tiempo\n",
    "tscv = TimeSeriesSplit(n_splits=3)\n",
    "\n",
    "# Se configura el GridSearchCV\n",
    "grid_search_xgb = GridSearchCV(\n",
    "    estimator=xgb_model,\n",
    "    param_grid=param_grid_xgb,\n",
    "    cv=tscv,\n",
    "    scoring='neg_root_mean_squared_error',\n",
    "    n_jobs=-1,  # Usar todos los procesadores\n",
    "    verbose=2\n",
    ")\n",
    "\n",
    "print(\"Configuración de GridSearch para XGBoost terminada...\")"
   ]
  },
  {
   "cell_type": "markdown",
   "id": "6c1574f4",
   "metadata": {},
   "source": [
    "#### 3.2 Entrenamiento y búsqueda del mejor modelo XGBoost"
   ]
  },
  {
   "cell_type": "code",
   "execution_count": 106,
   "id": "bbb2cd68",
   "metadata": {},
   "outputs": [
    {
     "name": "stdout",
     "output_type": "stream",
     "text": [
      "Iniciando optimización de hiperparámetros para XGBoost...\n",
      "Fitting 3 folds for each of 36 candidates, totalling 108 fits\n",
      "\n",
      "Mejores parámetros encontrados para XGBoost: {'learning_rate': 0.1, 'max_depth': 3, 'n_estimators': 1000, 'subsample': 1.0}\n",
      "Tiempo de Optimización (GridSearch): 11.21 segundos\n",
      "\n",
      "Entrenando el modelo final UNA VEZ con los mejores parámetros...\n",
      "Tiempo de Entrenamiento (un solo fit): 0.19 segundos\n"
     ]
    }
   ],
   "source": [
    "# Se entrena el modelo\n",
    "print(\"Iniciando optimización de hiperparámetros para XGBoost...\")\n",
    "start_time_xgb_opt = time.time() # Inicia el cronómetro de OPTIMIZACIÓN\n",
    "\n",
    "grid_search_xgb.fit(X_train, y_train)\n",
    "\n",
    "optimization_time_xgb = time.time() - start_time_xgb_opt # <--- Mide el tiempo TOTAL\n",
    "\n",
    "print(f\"\\nMejores parámetros encontrados para XGBoost: {grid_search_xgb.best_params_}\")\n",
    "print(f\"Tiempo de Optimización (GridSearch): {optimization_time_xgb:.2f} segundos\") # <--- Los 219s\n",
    "\n",
    "# --- Re-entrenamiento del mejor modelo para un tiempo justo ---\n",
    "print(\"\\nEntrenando el modelo final UNA VEZ con los mejores parámetros...\")\n",
    "\n",
    "# Se crea un nuevo modelo con los mejores parámetros encontrados\n",
    "best_xgb_params = grid_search_xgb.best_params_\n",
    "final_xgb_model = xgb.XGBRegressor(objective='reg:squarederror', \n",
    "                                   random_state=42, \n",
    "                                   **best_xgb_params)\n",
    "\n",
    "start_time_xgb_train = time.time() # <--- Inicia el cronómetro de ENTRENAMIENTO\n",
    "final_xgb_model.fit(X_train, y_train)\n",
    "training_time_xgb = time.time() - start_time_xgb_train # <--- Mide el tiempo de UN solo fit\n",
    "\n",
    "print(f\"Tiempo de Entrenamiento (un solo fit): {training_time_xgb:.2f} segundos\") # <--- El tiempo rápido y justo\n",
    "\n",
    "# Se evalúa el mejor modelo\n",
    "y_pred_xgb = final_xgb_model.predict(X_test)"
   ]
  },
  {
   "cell_type": "markdown",
   "id": "dd8fca3a",
   "metadata": {},
   "source": [
    "#### 3.3 Cálculo de métricas del mejor modelo XGBoost"
   ]
  },
  {
   "cell_type": "code",
   "execution_count": 107,
   "id": "68eaac43",
   "metadata": {},
   "outputs": [
    {
     "name": "stdout",
     "output_type": "stream",
     "text": [
      "\n",
      "Métricas de XGBoost (Homogéneo):\n",
      "MAE:  3.87\n",
      "RMSE: 5.36\n",
      "MAPE: 9.90%\n"
     ]
    }
   ],
   "source": [
    "# Se calculan las métricas\n",
    "mae_xgb = mean_absolute_error(y_test, y_pred_xgb)\n",
    "rmse_xgb = np.sqrt(mean_squared_error(y_test, y_pred_xgb))\n",
    "mape_xgb = mean_absolute_percentage_error(y_test, y_pred_xgb) * 100\n",
    "\n",
    "print(\"\\nMétricas de XGBoost (Homogéneo):\")\n",
    "print(f\"MAE:  {mae_xgb:.2f}\")\n",
    "print(f\"RMSE: {rmse_xgb:.2f}\")\n",
    "print(f\"MAPE: {mape_xgb:.2f}%\")"
   ]
  },
  {
   "cell_type": "markdown",
   "id": "3f8586c6",
   "metadata": {},
   "source": [
    "#### 3.4 Recopilación de resultados XGBoost para tabla comparativa"
   ]
  },
  {
   "cell_type": "code",
   "execution_count": 108,
   "id": "e2f01dff",
   "metadata": {},
   "outputs": [
    {
     "name": "stdout",
     "output_type": "stream",
     "text": [
      "--- Fin del Paso 3: Ensamble Homogéneo (XGBoost) ---\n"
     ]
    }
   ],
   "source": [
    "# Se guardan los resultados para la tabla comparativa\n",
    "results_summary['XGBoost'] = {\n",
    "    'MAE': mae_xgb,\n",
    "    'RMSE': rmse_xgb,\n",
    "    'MAPE': mape_xgb,\n",
    "    'Tiempo': training_time_xgb # <--- Se guarda el tiempo de entrenamiento justo\n",
    "}\n",
    "\n",
    "results_summary['XGBoost']['Tiempo_Optimizacion'] = optimization_time_xgb\n",
    "\n",
    "print(\"--- Fin del Paso 3: Ensamble Homogéneo (XGBoost) ---\")"
   ]
  },
  {
   "cell_type": "markdown",
   "id": "d908f4b3",
   "metadata": {},
   "source": [
    "### 4. Modelos Individuales para Ensambles Heterogéneos"
   ]
  },
  {
   "cell_type": "markdown",
   "id": "905e425b",
   "metadata": {},
   "source": [
    "#### 4.1 Modelo Individual: Prophet"
   ]
  },
  {
   "cell_type": "markdown",
   "id": "2e2e96b1",
   "metadata": {},
   "source": [
    "\"Prophet\" es reconocido por encontrar estacionalidades. Haremos un GridSearch simple para encontrar el mejor valor para changepoint_prior_scale, que controla la flexibilidad de la tendencia."
   ]
  },
  {
   "cell_type": "markdown",
   "id": "7b0c024e",
   "metadata": {},
   "source": [
    "##### 4.1.1 Configuración de parámetros para el modelo Prophet"
   ]
  },
  {
   "cell_type": "code",
   "execution_count": 109,
   "id": "9ab4602c",
   "metadata": {},
   "outputs": [
    {
     "name": "stdout",
     "output_type": "stream",
     "text": [
      "\n",
      "--- Iniciando Modelo Prophet ---\n",
      "Configuración de GridSearch para Prophet terminada.\n",
      "Total de combinaciones a probar: 18\n"
     ]
    }
   ],
   "source": [
    "# --- Configuración de parámetros para el modelo Prophet (Revisada) ---\n",
    "\n",
    "print(\"\\n--- Iniciando Modelo Prophet ---\")\n",
    "\n",
    "# Se preparan los datos para Prophet\n",
    "train_prophet = train_ts.reset_index().rename(columns={'Date': 'ds', 'total_cases': 'y'})\n",
    "test_prophet = test_ts.reset_index().rename(columns={'Date': 'ds', 'total_cases': 'y'})\n",
    "\n",
    "# --- Se define una REJILLA DE PARÁMETROS ---\n",
    "param_grid_prophet = {\n",
    "    'changepoint_prior_scale': [0.01, 0.1, 0.5],       # Flexibilidad de la tendencia\n",
    "    'seasonality_prior_scale': [1.0, 5.0, 10.0],    # Flexibilidad de la estacionalidad\n",
    "    'seasonality_mode': ['additive', 'multiplicative']\n",
    "}\n",
    "# Total de combinaciones: 3 * 3 * 2 = 18 combinaciones\n",
    "\n",
    "all_params = [dict(zip(param_grid_prophet.keys(), v)) for v in itertools.product(*param_grid_prophet.values())]\n",
    "\n",
    "# Se define el TimeSeriesSplit\n",
    "tscv = TimeSeriesSplit(n_splits=3)\n",
    "\n",
    "print(\"Configuración de GridSearch para Prophet terminada.\")\n",
    "print(f\"Total de combinaciones a probar: {len(all_params)}\")"
   ]
  },
  {
   "cell_type": "markdown",
   "id": "25eb3438",
   "metadata": {},
   "source": [
    "##### 4.1.2 Entrenamiento y búsqueda del mejor modelo Prophet"
   ]
  },
  {
   "cell_type": "code",
   "execution_count": 110,
   "id": "98ecd46c",
   "metadata": {},
   "outputs": [
    {
     "name": "stdout",
     "output_type": "stream",
     "text": [
      "Iniciando GridSearch manual para Prophet... Probando 18 combinaciones.\n"
     ]
    },
    {
     "name": "stderr",
     "output_type": "stream",
     "text": [
      "12:23:49 - cmdstanpy - INFO - Chain [1] start processing\n",
      "12:23:49 - cmdstanpy - INFO - Chain [1] done processing\n",
      "12:23:49 - cmdstanpy - INFO - Chain [1] start processing\n",
      "12:23:49 - cmdstanpy - INFO - Chain [1] done processing\n",
      "12:23:49 - cmdstanpy - INFO - Chain [1] start processing\n",
      "12:23:49 - cmdstanpy - INFO - Chain [1] done processing\n",
      "12:23:50 - cmdstanpy - INFO - Chain [1] start processing\n",
      "12:23:50 - cmdstanpy - INFO - Chain [1] done processing\n",
      "12:23:50 - cmdstanpy - INFO - Chain [1] start processing\n",
      "12:23:50 - cmdstanpy - INFO - Chain [1] done processing\n",
      "12:23:50 - cmdstanpy - INFO - Chain [1] start processing\n",
      "12:23:50 - cmdstanpy - INFO - Chain [1] done processing\n",
      "12:23:51 - cmdstanpy - INFO - Chain [1] start processing\n",
      "12:23:51 - cmdstanpy - INFO - Chain [1] done processing\n",
      "12:23:51 - cmdstanpy - INFO - Chain [1] start processing\n",
      "12:23:51 - cmdstanpy - INFO - Chain [1] done processing\n",
      "12:23:51 - cmdstanpy - INFO - Chain [1] start processing\n",
      "12:23:51 - cmdstanpy - INFO - Chain [1] done processing\n",
      "12:23:51 - cmdstanpy - INFO - Chain [1] start processing\n",
      "12:23:51 - cmdstanpy - INFO - Chain [1] done processing\n",
      "12:23:52 - cmdstanpy - INFO - Chain [1] start processing\n",
      "12:23:52 - cmdstanpy - INFO - Chain [1] done processing\n",
      "12:23:52 - cmdstanpy - INFO - Chain [1] start processing\n",
      "12:23:52 - cmdstanpy - INFO - Chain [1] done processing\n",
      "12:23:52 - cmdstanpy - INFO - Chain [1] start processing\n",
      "12:23:52 - cmdstanpy - INFO - Chain [1] done processing\n",
      "12:23:52 - cmdstanpy - INFO - Chain [1] start processing\n",
      "12:23:52 - cmdstanpy - INFO - Chain [1] done processing\n",
      "12:23:53 - cmdstanpy - INFO - Chain [1] start processing\n",
      "12:23:53 - cmdstanpy - INFO - Chain [1] done processing\n",
      "12:23:53 - cmdstanpy - INFO - Chain [1] start processing\n",
      "12:23:53 - cmdstanpy - INFO - Chain [1] done processing\n",
      "12:23:53 - cmdstanpy - INFO - Chain [1] start processing\n",
      "12:23:53 - cmdstanpy - INFO - Chain [1] done processing\n",
      "12:23:54 - cmdstanpy - INFO - Chain [1] start processing\n",
      "12:23:54 - cmdstanpy - INFO - Chain [1] done processing\n",
      "12:23:54 - cmdstanpy - INFO - Chain [1] start processing\n",
      "12:23:54 - cmdstanpy - INFO - Chain [1] done processing\n",
      "12:23:54 - cmdstanpy - INFO - Chain [1] start processing\n",
      "12:23:54 - cmdstanpy - INFO - Chain [1] done processing\n",
      "12:23:54 - cmdstanpy - INFO - Chain [1] start processing\n",
      "12:23:54 - cmdstanpy - INFO - Chain [1] done processing\n",
      "12:23:55 - cmdstanpy - INFO - Chain [1] start processing\n",
      "12:23:55 - cmdstanpy - INFO - Chain [1] done processing\n",
      "12:23:55 - cmdstanpy - INFO - Chain [1] start processing\n",
      "12:23:55 - cmdstanpy - INFO - Chain [1] done processing\n",
      "12:23:55 - cmdstanpy - INFO - Chain [1] start processing\n",
      "12:23:55 - cmdstanpy - INFO - Chain [1] done processing\n",
      "12:23:55 - cmdstanpy - INFO - Chain [1] start processing\n",
      "12:23:55 - cmdstanpy - INFO - Chain [1] done processing\n",
      "12:23:56 - cmdstanpy - INFO - Chain [1] start processing\n",
      "12:23:56 - cmdstanpy - INFO - Chain [1] done processing\n",
      "12:23:56 - cmdstanpy - INFO - Chain [1] start processing\n",
      "12:23:56 - cmdstanpy - INFO - Chain [1] done processing\n",
      "12:23:56 - cmdstanpy - INFO - Chain [1] start processing\n",
      "12:23:56 - cmdstanpy - INFO - Chain [1] done processing\n",
      "12:23:56 - cmdstanpy - INFO - Chain [1] start processing\n",
      "12:23:56 - cmdstanpy - INFO - Chain [1] done processing\n",
      "12:23:56 - cmdstanpy - INFO - Chain [1] start processing\n",
      "12:23:56 - cmdstanpy - INFO - Chain [1] done processing\n",
      "12:23:57 - cmdstanpy - INFO - Chain [1] start processing\n",
      "12:23:57 - cmdstanpy - INFO - Chain [1] done processing\n",
      "12:23:57 - cmdstanpy - INFO - Chain [1] start processing\n",
      "12:23:57 - cmdstanpy - INFO - Chain [1] done processing\n",
      "12:23:57 - cmdstanpy - INFO - Chain [1] start processing\n",
      "12:23:57 - cmdstanpy - INFO - Chain [1] done processing\n",
      "12:23:57 - cmdstanpy - INFO - Chain [1] start processing\n",
      "12:23:57 - cmdstanpy - INFO - Chain [1] done processing\n",
      "12:23:58 - cmdstanpy - INFO - Chain [1] start processing\n",
      "12:23:58 - cmdstanpy - INFO - Chain [1] done processing\n",
      "12:23:58 - cmdstanpy - INFO - Chain [1] start processing\n",
      "12:23:58 - cmdstanpy - INFO - Chain [1] done processing\n",
      "12:23:58 - cmdstanpy - INFO - Chain [1] start processing\n",
      "12:23:58 - cmdstanpy - INFO - Chain [1] done processing\n",
      "12:23:58 - cmdstanpy - INFO - Chain [1] start processing\n",
      "12:23:58 - cmdstanpy - INFO - Chain [1] done processing\n",
      "12:23:59 - cmdstanpy - INFO - Chain [1] start processing\n",
      "12:23:59 - cmdstanpy - INFO - Chain [1] done processing\n",
      "12:23:59 - cmdstanpy - INFO - Chain [1] start processing\n",
      "12:23:59 - cmdstanpy - INFO - Chain [1] done processing\n",
      "12:23:59 - cmdstanpy - INFO - Chain [1] start processing\n",
      "12:23:59 - cmdstanpy - INFO - Chain [1] done processing\n",
      "12:23:59 - cmdstanpy - INFO - Chain [1] start processing\n",
      "12:23:59 - cmdstanpy - INFO - Chain [1] done processing\n",
      "12:23:59 - cmdstanpy - INFO - Chain [1] start processing\n",
      "12:24:00 - cmdstanpy - INFO - Chain [1] done processing\n",
      "12:24:00 - cmdstanpy - INFO - Chain [1] start processing\n",
      "12:24:00 - cmdstanpy - INFO - Chain [1] done processing\n",
      "12:24:00 - cmdstanpy - INFO - Chain [1] start processing\n",
      "12:24:00 - cmdstanpy - INFO - Chain [1] done processing\n",
      "12:24:00 - cmdstanpy - INFO - Chain [1] start processing\n",
      "12:24:00 - cmdstanpy - INFO - Chain [1] done processing\n",
      "12:24:00 - cmdstanpy - INFO - Chain [1] start processing\n",
      "12:24:01 - cmdstanpy - INFO - Chain [1] done processing\n",
      "12:24:01 - cmdstanpy - INFO - Chain [1] start processing\n",
      "12:24:01 - cmdstanpy - INFO - Chain [1] done processing\n",
      "12:24:01 - cmdstanpy - INFO - Chain [1] start processing\n",
      "12:24:01 - cmdstanpy - INFO - Chain [1] done processing\n",
      "12:24:01 - cmdstanpy - INFO - Chain [1] start processing\n",
      "12:24:01 - cmdstanpy - INFO - Chain [1] done processing\n",
      "12:24:02 - cmdstanpy - INFO - Chain [1] start processing\n",
      "12:24:02 - cmdstanpy - INFO - Chain [1] done processing\n",
      "12:24:02 - cmdstanpy - INFO - Chain [1] start processing\n",
      "12:24:02 - cmdstanpy - INFO - Chain [1] done processing\n",
      "12:24:02 - cmdstanpy - INFO - Chain [1] start processing\n",
      "12:24:02 - cmdstanpy - INFO - Chain [1] done processing\n",
      "12:24:02 - cmdstanpy - INFO - Chain [1] start processing\n",
      "12:24:02 - cmdstanpy - INFO - Chain [1] done processing\n",
      "12:24:03 - cmdstanpy - INFO - Chain [1] start processing\n"
     ]
    },
    {
     "name": "stdout",
     "output_type": "stream",
     "text": [
      "Tiempo de Optimización (Prophet): 14.15 segundos\n",
      "Mejores parámetros encontrados: {'changepoint_prior_scale': 0.1, 'seasonality_prior_scale': 5.0, 'seasonality_mode': 'multiplicative'}\n",
      "\n",
      "Entrenando el modelo Prophet final con los mejores parámetros...\n"
     ]
    },
    {
     "name": "stderr",
     "output_type": "stream",
     "text": [
      "12:24:03 - cmdstanpy - INFO - Chain [1] done processing\n"
     ]
    },
    {
     "name": "stdout",
     "output_type": "stream",
     "text": [
      "Tiempo de Entrenamiento (Prophet): 0.26 segundos\n"
     ]
    }
   ],
   "source": [
    "# Se realiza el GridSearch manualmente para Prophet\n",
    "# Esto porque GridSearchCV de Scikit-learn no funciona directamente con Prophet\n",
    "\n",
    "print(f\"Iniciando GridSearch manual para Prophet... Probando {len(all_params)} combinaciones.\")\n",
    "\n",
    "best_rmse_prophet = float('inf')\n",
    "best_params_prophet = None\n",
    "start_time_prophet_opt = time.time()\n",
    "\n",
    "for params in all_params:\n",
    "    rmses = []\n",
    "    # Se simula el TimeSeriesSplit\n",
    "    for train_idx, val_idx in tscv.split(train_prophet):\n",
    "        # Se preparan los folds\n",
    "        train_fold = train_prophet.iloc[train_idx]\n",
    "        val_fold = train_prophet.iloc[val_idx]\n",
    "\n",
    "        # Se entrena el modelo\n",
    "        m = Prophet(yearly_seasonality=True, weekly_seasonality=True, **params)\n",
    "        m.fit(train_fold)\n",
    "\n",
    "        # Se predice\n",
    "        future = m.make_future_dataframe(periods=len(val_fold))\n",
    "        forecast = m.predict(future)\n",
    "        y_pred = forecast.iloc[-len(val_fold):]['yhat']\n",
    "        y_true = val_fold['y']\n",
    "\n",
    "        # Se calcula el error\n",
    "        rmses.append(np.sqrt(mean_squared_error(y_true, y_pred)))\n",
    "    \n",
    "    # Se promedia el error de los folds\n",
    "    mean_rmse = np.mean(rmses)\n",
    "    \n",
    "    if mean_rmse < best_rmse_prophet:\n",
    "        best_rmse_prophet = mean_rmse\n",
    "        best_params_prophet = params\n",
    "\n",
    "optimization_time_prophet = time.time() - start_time_prophet_opt\n",
    "print(f\"Tiempo de Optimización (Prophet): {optimization_time_prophet:.2f} segundos\")\n",
    "print(f\"Mejores parámetros encontrados: {best_params_prophet}\")\n",
    "\n",
    "# --- Entrenamiento del Modelo Final (Prophet) ---\n",
    "print(\"\\nEntrenando el modelo Prophet final con los mejores parámetros...\")\n",
    "start_time_prophet_train = time.time()\n",
    "\n",
    "# Se entrena UNA SOLA VEZ sobre TODOS los datos de entrenamiento\n",
    "final_prophet_model = Prophet(yearly_seasonality=True, weekly_seasonality=True, **best_params_prophet)\n",
    "final_prophet_model.fit(train_prophet)\n",
    "\n",
    "training_time_prophet = time.time() - start_time_prophet_train\n",
    "print(f\"Tiempo de Entrenamiento (Prophet): {training_time_prophet:.2f} segundos\")"
   ]
  },
  {
   "cell_type": "markdown",
   "id": "92c75f91",
   "metadata": {},
   "source": [
    "##### 4.1.3 Cálculo de métricas del mejor modelo Prophet"
   ]
  },
  {
   "cell_type": "code",
   "execution_count": 111,
   "id": "e309b360",
   "metadata": {},
   "outputs": [
    {
     "name": "stdout",
     "output_type": "stream",
     "text": [
      "\n",
      "Métricas de Prophet (Individual):\n",
      "MAE:  14.58\n",
      "RMSE: 18.73\n",
      "MAPE: 30.57%\n"
     ]
    }
   ],
   "source": [
    "# --- Evaluación (Prophet) ---\n",
    "# Se genera el 'future' dataframe y se predice\n",
    "future = final_prophet_model.make_future_dataframe(periods=len(test_prophet))\n",
    "forecast = final_prophet_model.predict(future)\n",
    "\n",
    "# Se extraen las predicciones que corresponden al set de prueba\n",
    "y_pred_prophet = forecast.iloc[-len(test_prophet):]['yhat']\n",
    "y_true_prophet = test_prophet['y']\n",
    "\n",
    "# Se calculan las métricas\n",
    "mae_prophet = mean_absolute_error(y_true_prophet, y_pred_prophet)\n",
    "rmse_prophet = np.sqrt(mean_squared_error(y_true_prophet, y_pred_prophet))\n",
    "mape_prophet = mean_absolute_percentage_error(y_true_prophet, y_pred_prophet) * 100\n",
    "\n",
    "print(\"\\nMétricas de Prophet (Individual):\")\n",
    "print(f\"MAE:  {mae_prophet:.2f}\")\n",
    "print(f\"RMSE: {rmse_prophet:.2f}\")\n",
    "print(f\"MAPE: {mape_prophet:.2f}%\")"
   ]
  },
  {
   "cell_type": "markdown",
   "id": "d8707465",
   "metadata": {},
   "source": [
    "##### 4.1.4 Generación de Predicciones \"Out-of-Fold\" (OOF) para Stacking"
   ]
  },
  {
   "cell_type": "markdown",
   "id": "eee01661",
   "metadata": {},
   "source": [
    "Para que el modelo de Stacking funcione correctamente y sin fuga de datos, se deben generar las predicciones sobre el conjunto de entrenamiento usando un método de validación cruzada (Out-of-Fold)."
   ]
  },
  {
   "cell_type": "code",
   "execution_count": 112,
   "id": "1b369d9f",
   "metadata": {},
   "outputs": [
    {
     "name": "stdout",
     "output_type": "stream",
     "text": [
      "\n",
      "Generando predicciones Out-of-Fold (OOF) para el Stacking...\n"
     ]
    },
    {
     "name": "stderr",
     "output_type": "stream",
     "text": [
      "12:24:03 - cmdstanpy - INFO - Chain [1] start processing\n",
      "12:24:03 - cmdstanpy - INFO - Chain [1] done processing\n",
      "12:24:03 - cmdstanpy - INFO - Chain [1] start processing\n",
      "12:24:03 - cmdstanpy - INFO - Chain [1] done processing\n",
      "12:24:04 - cmdstanpy - INFO - Chain [1] start processing\n",
      "12:24:04 - cmdstanpy - INFO - Chain [1] done processing\n"
     ]
    },
    {
     "name": "stdout",
     "output_type": "stream",
     "text": [
      "Predicciones OOF generadas...\n"
     ]
    }
   ],
   "source": [
    "# --- Generación de Predicciones \"Out-of-Fold\" (OOF) para Stacking ---\n",
    "print(\"\\nGenerando predicciones Out-of-Fold (OOF) para el Stacking...\")\n",
    "\n",
    "# Se inicializa un array vacío para guardar las predicciones de entrenamiento\n",
    "# Se llena con NaN para mantener la forma correcta\n",
    "train_pred_prophet_oof = np.full(len(train_prophet), np.nan)\n",
    "\n",
    "# Se usa el mismo TimeSeriesSplit de antes\n",
    "for train_idx, val_idx in tscv.split(train_prophet):\n",
    "    # Se preparan los folds\n",
    "    train_fold = train_prophet.iloc[train_idx]\n",
    "    val_fold = train_prophet.iloc[val_idx]\n",
    "\n",
    "    # Se entrena un modelo SOLO en el fold de entrenamiento\n",
    "    m_oof = Prophet(yearly_seasonality=True, weekly_seasonality=True, **best_params_prophet)\n",
    "    m_oof.fit(train_fold)\n",
    "\n",
    "    # Se predice SOLAMENTE en el fold de validación\n",
    "    future_oof = m_oof.make_future_dataframe(periods=len(val_fold))\n",
    "    forecast_oof = m_oof.predict(future_oof)\n",
    "    \n",
    "    # Se guardan las predicciones OOF en sus posiciones correctas\n",
    "    train_pred_prophet_oof[val_idx] = forecast_oof.iloc[-len(val_fold):]['yhat'].values\n",
    "\n",
    "# Se eliminan los NaNs iniciales (del primer fold que no tuvo validación)\n",
    "# train_pred_prophet_oof = train_pred_prophet_oof[~np.isnan(train_pred_prophet_oof)]\n",
    "\n",
    "print(\"Predicciones OOF generadas...\")"
   ]
  },
  {
   "cell_type": "markdown",
   "id": "757ec6fe",
   "metadata": {},
   "source": [
    "##### 4.1.5 Recopilación de resultados Prophet para tabla comparativa"
   ]
  },
  {
   "cell_type": "code",
   "execution_count": 127,
   "id": "92d32a8e",
   "metadata": {},
   "outputs": [
    {
     "name": "stdout",
     "output_type": "stream",
     "text": [
      "--- Fin del Paso 4.1: Modelo Individual Prophet ---\n"
     ]
    }
   ],
   "source": [
    "# Se guardan las métricas\n",
    "results_summary['Prophet'] = {\n",
    "    'MAE': mae_prophet,\n",
    "    'RMSE': rmse_prophet,\n",
    "    'MAPE': mape_prophet,\n",
    "    'Tiempo': training_time_prophet,\n",
    "    'Tiempo_Optimizacion': optimization_time_prophet # <-- AÑADIR ESTA LÍNEA\n",
    "}\n",
    "# Se guardan las predicciones para el Stacking\n",
    "test_pred_prophet = y_pred_prophet.values\n",
    "\n",
    "print(\"--- Fin del Paso 4.1: Modelo Individual Prophet ---\")"
   ]
  },
  {
   "cell_type": "markdown",
   "id": "77e650ce",
   "metadata": {},
   "source": [
    "#### 4.2 Modelo Individual: SARIMAX"
   ]
  },
  {
   "cell_type": "markdown",
   "id": "6bed78b5",
   "metadata": {},
   "source": [
    "Se implementará un modelo SARIMAX (Seasonal AutoRegressive Integrated Moving Average). Este es un modelo estadístico para series de tiempo que es reconocido por capturar estructuras de tendencia y estacionalidad.\n",
    "\n",
    "Idealmente, la selección de los hiperparámetros de orden (p,d,q)(P,D,Q,s) se realizaría con una herramienta automatizada como auto_arima de la librería pmdarima. Sin embargo, debido a conflictos de instalación e incompatibilidades persistentes con la versión de Python utilizada en el entorno del proyecto, no fue posible integrar esta librería a pesar de múltiples intentos.\n",
    "\n",
    "Como alternativa, se implementará una búsqueda en malla (Grid Search) manual. Este proceso probará sistemáticamente un rango de combinaciones de parámetros (p,d,q) y seleccionará la mejor con base en el Criterio de Información de Akaike (AIC). El AIC es una métrica estándar que balancea el buen ajuste del modelo con su complejidad, donde un valor más bajo es mejor."
   ]
  },
  {
   "cell_type": "markdown",
   "id": "1ab2ca8f",
   "metadata": {},
   "source": [
    "##### 4.2.1 Configuración de parámetros del modelo SARIMAX y GridSearch"
   ]
  },
  {
   "cell_type": "code",
   "execution_count": 114,
   "id": "a4a04db3",
   "metadata": {},
   "outputs": [
    {
     "name": "stdout",
     "output_type": "stream",
     "text": [
      "\n",
      "--- Iniciando Modelo SARIMAX ---\n",
      "Configuración de GridSearch para SARIMAX terminada.\n",
      "Total de combinaciones a probar (AIC): 32\n"
     ]
    }
   ],
   "source": [
    "# --- Configuración de parámetros SARIMAX ---\n",
    "\n",
    "print(\"\\n--- Iniciando Modelo SARIMAX ---\")\n",
    "\n",
    "# Se definen los rangos de p, d, q a probar (búsqueda optimizada)\n",
    "p = range(0, 4)  # AR\n",
    "d = range(0, 2)  # Integración\n",
    "q = range(0, 4)  # MA\n",
    "pdq_params = list(itertools.product(p, d, q)) # 32 combinaciones\n",
    "\n",
    "# Se define el componente estacional (P,D,Q,s)\n",
    "# Se indica una estacionalidad anual (m=52) y un orden simple.\n",
    "seasonal_pdq_params = [(1, 1, 1, 52)] # (P,D,Q,m)\n",
    "\n",
    "# Se define el TimeSeriesSplit (se usará para generar las predicciones OOF)\n",
    "tscv = TimeSeriesSplit(n_splits=3)\n",
    "\n",
    "print(\"Configuración de GridSearch para SARIMAX terminada.\")\n",
    "print(f\"Total de combinaciones a probar (AIC): {len(pdq_params)}\")"
   ]
  },
  {
   "cell_type": "markdown",
   "id": "1ef769f7",
   "metadata": {},
   "source": [
    "##### 4.2.2 Entrenamiento y búsqueda del mejor modelo SARIMAX"
   ]
  },
  {
   "cell_type": "markdown",
   "id": "f320fb2a",
   "metadata": {},
   "source": [
    "Nota: A diferencia del GridSearch de Scikit-Learn (que usa RMSE en folds), la búsqueda para SARIMAX se basa en el AIC entrenando en el conjunto de entrenamiento completo. Esto es una heurística estándar y más rápida que re-entrenar en todos los folds para cada combinación."
   ]
  },
  {
   "cell_type": "code",
   "execution_count": 115,
   "id": "2582784a",
   "metadata": {},
   "outputs": [
    {
     "name": "stdout",
     "output_type": "stream",
     "text": [
      "Iniciando GridSearch manual para SARIMAX... Probando 32 combinaciones.\n",
      "Probando 1/32: SARIMAX(0, 0, 0)x(1, 1, 1, 52)...\n",
      "  -> RESULTADO: AIC = 4599.13\n",
      "  -> ¡Nuevo mejor modelo encontrado!\n",
      "Probando 2/32: SARIMAX(0, 0, 1)x(1, 1, 1, 52)...\n",
      "  -> RESULTADO: AIC = 4447.53\n",
      "  -> ¡Nuevo mejor modelo encontrado!\n",
      "Probando 3/32: SARIMAX(0, 0, 2)x(1, 1, 1, 52)...\n",
      "  -> RESULTADO: AIC = 4434.94\n",
      "  -> ¡Nuevo mejor modelo encontrado!\n",
      "Probando 4/32: SARIMAX(0, 0, 3)x(1, 1, 1, 52)...\n",
      "  -> RESULTADO: AIC = 4423.04\n",
      "  -> ¡Nuevo mejor modelo encontrado!\n",
      "Probando 5/32: SARIMAX(0, 1, 0)x(1, 1, 1, 52)...\n",
      "  -> RESULTADO: AIC = 4968.91\n",
      "Probando 6/32: SARIMAX(0, 1, 1)x(1, 1, 1, 52)...\n",
      "  -> RESULTADO: AIC = 4583.09\n",
      "Probando 7/32: SARIMAX(0, 1, 2)x(1, 1, 1, 52)...\n",
      "  -> RESULTADO: AIC = 4408.96\n",
      "  -> ¡Nuevo mejor modelo encontrado!\n",
      "Probando 8/32: SARIMAX(0, 1, 3)x(1, 1, 1, 52)...\n",
      "  -> RESULTADO: AIC = 4399.50\n",
      "  -> ¡Nuevo mejor modelo encontrado!\n",
      "Probando 9/32: SARIMAX(1, 0, 0)x(1, 1, 1, 52)...\n",
      "  -> RESULTADO: AIC = 4504.83\n",
      "Probando 10/32: SARIMAX(1, 0, 1)x(1, 1, 1, 52)...\n",
      "  -> RESULTADO: AIC = 4447.13\n",
      "Probando 11/32: SARIMAX(1, 0, 2)x(1, 1, 1, 52)...\n",
      "  -> RESULTADO: AIC = 4417.26\n",
      "Probando 12/32: SARIMAX(1, 0, 3)x(1, 1, 1, 52)...\n",
      "  -> RESULTADO: AIC = 4472.24\n",
      "Probando 13/32: SARIMAX(1, 1, 0)x(1, 1, 1, 52)...\n",
      "  -> RESULTADO: AIC = 4763.58\n",
      "Probando 14/32: SARIMAX(1, 1, 1)x(1, 1, 1, 52)...\n",
      "  -> RESULTADO: AIC = 4489.00\n",
      "Probando 15/32: SARIMAX(1, 1, 2)x(1, 1, 1, 52)...\n",
      "  -> RESULTADO: AIC = 4411.02\n",
      "Probando 16/32: SARIMAX(1, 1, 3)x(1, 1, 1, 52)...\n",
      "  -> RESULTADO: AIC = 4401.67\n",
      "Probando 17/32: SARIMAX(2, 0, 0)x(1, 1, 1, 52)...\n",
      "  -> RESULTADO: AIC = 4462.32\n",
      "Probando 18/32: SARIMAX(2, 0, 1)x(1, 1, 1, 52)...\n",
      "  -> RESULTADO: AIC = 4447.76\n",
      "Probando 19/32: SARIMAX(2, 0, 2)x(1, 1, 1, 52)...\n",
      "  -> RESULTADO: AIC = 4419.06\n",
      "Probando 20/32: SARIMAX(2, 0, 3)x(1, 1, 1, 52)...\n",
      "  -> RESULTADO: AIC = 4459.91\n",
      "Probando 21/32: SARIMAX(2, 1, 0)x(1, 1, 1, 52)...\n",
      "  -> RESULTADO: AIC = 4652.69\n",
      "Probando 22/32: SARIMAX(2, 1, 1)x(1, 1, 1, 52)...\n",
      "  -> RESULTADO: AIC = 4457.01\n",
      "Probando 23/32: SARIMAX(2, 1, 2)x(1, 1, 1, 52)...\n",
      "  -> RESULTADO: AIC = 4412.83\n",
      "Probando 24/32: SARIMAX(2, 1, 3)x(1, 1, 1, 52)...\n",
      "  -> RESULTADO: AIC = 4406.84\n",
      "Probando 25/32: SARIMAX(3, 0, 0)x(1, 1, 1, 52)...\n",
      "  -> RESULTADO: AIC = 4439.69\n",
      "Probando 26/32: SARIMAX(3, 0, 1)x(1, 1, 1, 52)...\n",
      "  -> RESULTADO: AIC = 4437.06\n",
      "Probando 27/32: SARIMAX(3, 0, 2)x(1, 1, 1, 52)...\n",
      "  -> RESULTADO: AIC = 4421.28\n",
      "Probando 28/32: SARIMAX(3, 0, 3)x(1, 1, 1, 52)...\n",
      "  -> RESULTADO: AIC = 4454.90\n",
      "Probando 29/32: SARIMAX(3, 1, 0)x(1, 1, 1, 52)...\n",
      "  -> RESULTADO: AIC = 4581.91\n",
      "Probando 30/32: SARIMAX(3, 1, 1)x(1, 1, 1, 52)...\n",
      "  -> RESULTADO: AIC = 4431.54\n",
      "Probando 31/32: SARIMAX(3, 1, 2)x(1, 1, 1, 52)...\n",
      "  -> RESULTADO: AIC = 4483.13\n",
      "Probando 32/32: SARIMAX(3, 1, 3)x(1, 1, 1, 52)...\n",
      "  -> RESULTADO: AIC = 4410.82\n",
      "\n",
      "--- Búsqueda Finalizada ---\n",
      "Tiempo de Optimización (SARIMAX): 1295.95 segundos\n",
      "Mejores parámetros (p,d,q) encontrados (AIC=4399.50): (0, 1, 3)\n",
      "\n",
      "Entrenando el modelo SARIMAX final con los mejores parámetros...\n",
      "Tiempo de Entrenamiento (SARIMAX): 43.17 segundos\n"
     ]
    }
   ],
   "source": [
    "# --- Entrenamiento y Búsqueda SARIMAX ---\n",
    "\n",
    "print(f\"Iniciando GridSearch manual para SARIMAX... Probando {len(pdq_params)} combinaciones.\")\n",
    "\n",
    "best_aic_sarimax = float('inf')\n",
    "best_params_sarimax = None\n",
    "start_time_sarimax_opt = time.time()\n",
    "\n",
    "# --- Se itera sobre las 32 combinaciones ---\n",
    "for i, param in enumerate(pdq_params):\n",
    "    # El componente estacional es fijo en este ejemplo\n",
    "    param_seasonal = seasonal_pdq_params[0] \n",
    "    \n",
    "    try:\n",
    "        # Se imprime qué combinación se está probando AHORA.\n",
    "        print(f\"Probando {i+1}/{len(pdq_params)}: SARIMAX{param}x{param_seasonal}...\")\n",
    "        \n",
    "        mod = SARIMAX(train_ts['total_cases'],\n",
    "                      order=param,\n",
    "                      seasonal_order=param_seasonal,\n",
    "                      enforce_stationarity=False,\n",
    "                      enforce_invertibility=False)\n",
    "        results = mod.fit(disp=False)\n",
    "        \n",
    "        # Se imprime el resultado de la combinación que acaba de terminar.\n",
    "        print(f\"  -> RESULTADO: AIC = {results.aic:.2f}\")\n",
    "\n",
    "        # Se guarda el modelo si tiene un mejor (menor) AIC\n",
    "        if results.aic < best_aic_sarimax:\n",
    "            best_aic_sarimax = results.aic\n",
    "            best_params_sarimax = param\n",
    "            print(f\"  -> ¡Nuevo mejor modelo encontrado!\") # <--- Mensaje de bonificación\n",
    "\n",
    "    except Exception as e:\n",
    "        print(f\"  -> FALLÓ la combinación {param}. Saltando.\")\n",
    "        continue # Se ignoran las combinaciones que fallan\n",
    "\n",
    "optimization_time_sarimax = time.time() - start_time_sarimax_opt\n",
    "\n",
    "print(\"\\n--- Búsqueda Finalizada ---\")\n",
    "print(f\"Tiempo de Optimización (SARIMAX): {optimization_time_sarimax:.2f} segundos\")\n",
    "print(f\"Mejores parámetros (p,d,q) encontrados (AIC={best_aic_sarimax:.2f}): {best_params_sarimax}\")\n",
    "\n",
    "# --- Entrenamiento del Modelo Final (SARIMAX) ---\n",
    "print(\"\\nEntrenando el modelo SARIMAX final con los mejores parámetros...\")\n",
    "start_time_sarimax_train = time.time()\n",
    "\n",
    "# Se entrena UNA SOLA VEZ sobre TODOS los datos de entrenamiento\n",
    "final_sarimax_model = SARIMAX(train_ts['total_cases'],\n",
    "                              order=best_params_sarimax,\n",
    "                              seasonal_order=seasonal_pdq_params[0],\n",
    "                              enforce_stationarity=False,\n",
    "                              enforce_invertibility=False)\n",
    "final_sarimax_results = final_sarimax_model.fit(disp=False)\n",
    "\n",
    "training_time_sarimax = time.time() - start_time_sarimax_train\n",
    "print(f\"Tiempo de Entrenamiento (SARIMAX): {training_time_sarimax:.2f} segundos\")"
   ]
  },
  {
   "cell_type": "markdown",
   "id": "1e425e08",
   "metadata": {},
   "source": [
    "##### 4.2.3 Cálculo de métricas del mejor modelo SARIMAX"
   ]
  },
  {
   "cell_type": "code",
   "execution_count": 116,
   "id": "2154c7b2",
   "metadata": {},
   "outputs": [
    {
     "name": "stdout",
     "output_type": "stream",
     "text": [
      "\n",
      "Métricas de SARIMAX (Individual):\n",
      "MAE:  19.31\n",
      "RMSE: 44.97\n",
      "MAPE: 53.24%\n"
     ]
    }
   ],
   "source": [
    "# --- Evaluación (SARIMAX) ---\n",
    "\n",
    "# Se generan las predicciones para el set de prueba\n",
    "forecast_obj = final_sarimax_results.get_forecast(steps=len(test_ts))\n",
    "y_pred_sarimax = forecast_obj.predicted_mean\n",
    "\n",
    "# Se alinean los datos y se eliminan NaNs (medida de seguridad)\n",
    "eval_df_sm = pd.DataFrame({'Actual': test_ts['total_cases'], 'Forecast': y_pred_sarimax})\n",
    "eval_df_sm.dropna(inplace=True)\n",
    "\n",
    "# Se calculan las métricas\n",
    "mae_sarimax = mean_absolute_error(eval_df_sm['Actual'], eval_df_sm['Forecast'])\n",
    "rmse_sarimax = np.sqrt(mean_squared_error(eval_df_sm['Actual'], eval_df_sm['Forecast']))\n",
    "mape_sarimax = mean_absolute_percentage_error(eval_df_sm['Actual'], eval_df_sm['Forecast']) * 100\n",
    "\n",
    "print(\"\\nMétricas de SARIMAX (Individual):\")\n",
    "print(f\"MAE:  {mae_sarimax:.2f}\")\n",
    "print(f\"RMSE: {rmse_sarimax:.2f}\")\n",
    "print(f\"MAPE: {mape_sarimax:.2f}%\")"
   ]
  },
  {
   "cell_type": "markdown",
   "id": "b7331169",
   "metadata": {},
   "source": [
    "##### 4.2.4 Generación de Predicciones \"Out-of-Fold\" (OOF) para Stacking"
   ]
  },
  {
   "cell_type": "markdown",
   "id": "32c2f2a8",
   "metadata": {},
   "source": [
    "Para que el modelo de Stacking funcione correctamente y sin fuga de datos, se deben generar las predicciones sobre el conjunto de entrenamiento usando un método de validación cruzada (Out-of-Fold)."
   ]
  },
  {
   "cell_type": "code",
   "execution_count": 117,
   "id": "d80f9d1d",
   "metadata": {},
   "outputs": [
    {
     "name": "stdout",
     "output_type": "stream",
     "text": [
      "\n",
      "Generando predicciones Out-of-Fold (OOF) de SARIMAX para el Stacking...\n",
      "Predicciones OOF de SARIMAX generadas.\n"
     ]
    }
   ],
   "source": [
    "# --- Generación de Predicciones \"Out-of-Fold\" (OOF) para Stacking ---\n",
    "print(\"\\nGenerando predicciones Out-of-Fold (OOF) de SARIMAX para el Stacking...\")\n",
    "\n",
    "# Se inicializa un array vacío para guardar las predicciones\n",
    "train_pred_sarimax_oof = np.full(len(train_ts), np.nan)\n",
    "# Se usa el mismo CV que en los otros modelos\n",
    "tscv_oof = TimeSeriesSplit(n_splits=3) \n",
    "\n",
    "# Se itera sobre los folds para generar predicciones OOF\n",
    "for train_idx, val_idx in tscv_oof.split(train_ts):\n",
    "    # Se preparan los folds\n",
    "    train_fold = train_ts.iloc[train_idx]\n",
    "    val_fold_len = len(val_idx) # Número de pasos a predecir\n",
    "\n",
    "    # Se entrena un modelo SOLO en el fold de entrenamiento\n",
    "    m_oof = SARIMAX(train_fold['total_cases'],\n",
    "                    order=best_params_sarimax,\n",
    "                    seasonal_order=seasonal_pdq_params[0],\n",
    "                    enforce_stationarity=False,\n",
    "                    enforce_invertibility=False)\n",
    "    m_oof_results = m_oof.fit(disp=False)\n",
    "\n",
    "    # Se predice SOLAMENTE en el fold de validación\n",
    "    forecast_oof = m_oof_results.get_forecast(steps=val_fold_len)\n",
    "    \n",
    "    # Se guardan las predicciones OOF en sus posiciones correctas\n",
    "    train_pred_sarimax_oof[val_idx] = forecast_oof.predicted_mean.values\n",
    "\n",
    "print(\"Predicciones OOF de SARIMAX generadas.\")"
   ]
  },
  {
   "cell_type": "markdown",
   "id": "1c34c7a5",
   "metadata": {},
   "source": [
    "##### 4.2.5 Recopilación de resultados SARIMAX para tabla comparativa"
   ]
  },
  {
   "cell_type": "code",
   "execution_count": 128,
   "id": "f423f48c",
   "metadata": {},
   "outputs": [
    {
     "name": "stdout",
     "output_type": "stream",
     "text": [
      "--- Fin del Paso 4.2: Modelo Individual SARIMAX ---\n"
     ]
    }
   ],
   "source": [
    "# --- Recopilación de resultados SARIMAX ---\n",
    "results_summary['SARIMAX'] = {\n",
    "    'MAE': mae_sarimax,\n",
    "    'RMSE': rmse_sarimax,\n",
    "    'MAPE': mape_sarimax,\n",
    "    'Tiempo': training_time_sarimax,\n",
    "    'Tiempo_Optimizacion': optimization_time_sarimax # <-- AÑADIR ESTA LÍNEA\n",
    "}\n",
    "\n",
    "# Se guardan las predicciones para el Stacking\n",
    "test_pred_sarimax = y_pred_sarimax.values\n",
    "\n",
    "print(\"--- Fin del Paso 4.2: Modelo Individual SARIMAX ---\")"
   ]
  },
  {
   "cell_type": "markdown",
   "id": "a19b3f2f",
   "metadata": {},
   "source": [
    "Hallazgos de los Modelos Individuales\n",
    "\n",
    "En esta fase, se entrenaron y optimizaron tres modelos distintos para establecer un punto de referencia y generar los componentes para nuestro ensamble final. Cada modelo mostró fortalezas y debilidades distintas.\n",
    "\n",
    "1. XGBoost (Ensamble Homogéneo).\n",
    "\n",
    "Este modelo, basado en árboles de decisión, se probó sobre un conjunto de datos con características de ingeniería (lags, medias móviles, etc.).\n",
    "\n",
    "    Rendimiento: Excepcional. Con un MAPE de 9.90%, demostró ser el modelo individual más preciso por un amplio margen. Esto sugiere que las características que creamos (como el historial de las semanas pasadas) son buenos predictores.\n",
    "\n",
    "    Eficiencia: Sobresaliente. A pesar de una optimización exhaustiva (108 combinaciones), el tiempo de entrenamiento final fue de solo 0.19 segundos. Esta velocidad lo hace ideal para un re-entrenamiento frecuente.\n",
    "\n",
    "    Conclusión: XGBoost se establece de momento como el modelo más adecuado, mostrando una alta precisión y una buena eficiencia computacional.\n",
    "\n",
    "2. Prophet (Modelo Individual)\n",
    "\n",
    "Este modelo, desarrollado por Meta, está diseñado específicamente para series de tiempo con estacionalidad.\n",
    "\n",
    "    Rendimiento: Regular. Al ajustar los parámetros (especialmente al cambiar a un modo de estacionalidad \"multiplicativo\"), el error mejoró significativamente, alcanzando un MAPE de 30.57%.\n",
    "\n",
    "    Eficiencia: Muy alta. El tiempo de entrenamiento final fue de solo 0.24 segundos.\n",
    "\n",
    "    Conclusión: Aunque Prophet es rápido y logró capturar la estacionalidad, no pudo competir en precisión con el enfoque de XGBoost. Sin embargo, su enfoque de modelado es muy diferente, lo que lo convierte en un candidato interesante para aportar \"diversidad\" a un ensamble.\n",
    "\n",
    "3. SARIMAX (Modelo Individual)\n",
    "\n",
    "Este es el modelo estadístico clásico para series de tiempo estacionales. Se realizó una búsqueda manual (Grid Search) para encontrar sus parámetros óptimos.\n",
    "\n",
    "    Rendimiento: Malo. A pesar de la optimización, el modelo final tuvo el peor desempeño, con un MAPE de 53.24%. Curiosamente, la búsqueda de parámetros más profunda encontró un modelo que se ajustaba mejor al entrenamiento (menor AIC) pero que predecía peor el futuro, un claro signo de sobreajuste.\n",
    "\n",
    "    Eficiencia: Muy malo. El proceso de optimización fue, con diferencia, el más lento (más de 20 minutos). El entrenamiento final por sí solo tomó 43 segundos, haciéndolo claramente más lento que las otras alternativas.\n",
    "\n",
    "    Conclusión: Para este conjunto de datos, SARIMAX demostró ser tanto el modelo más lento como el menos preciso. Su estructura estadística rígida parece no ser la adecuada para capturar la dinámica de esta serie temporal."
   ]
  },
  {
   "cell_type": "markdown",
   "id": "1275c6a8",
   "metadata": {},
   "source": [
    "### 5. Ensamble Heterogéneo (Stacking)"
   ]
  },
  {
   "cell_type": "markdown",
   "id": "a3c57377",
   "metadata": {},
   "source": [
    "Se implementará un StackingRegressor. Esta es una técnica de ensamble heterogéneo que combina las predicciones de modelos de diferente tipo. Se utiliza un \"meta-modelo\" (en este caso, una LinearRegression) que aprende a ponderar las fortalezas y debilidades de cada modelo base (XGBoost, Prophet y SARIMAX) para generar un pronóstico final.\n",
    "\n",
    "El objetivo es comprobar si la combinación de estos modelos, que cometen errores de formas muy distintas, puede superar el rendimiento del mejor modelo individual (XGBoost)."
   ]
  },
  {
   "cell_type": "markdown",
   "id": "e214a485",
   "metadata": {},
   "source": [
    "#### 5.1 Generación de Predicciones \"Out-of-Fold\" (OOF) para XGBoost"
   ]
  },
  {
   "cell_type": "markdown",
   "id": "20344354",
   "metadata": {},
   "source": [
    "Para que el Stacking funcione sin fuga de datos, necesitamos las predicciones \"Out-of-Fold\" (OOF) de XGBoost, tal como las generamos para Prophet y SARIMAX en el paso 4."
   ]
  },
  {
   "cell_type": "code",
   "execution_count": 119,
   "id": "113fb074",
   "metadata": {},
   "outputs": [
    {
     "name": "stdout",
     "output_type": "stream",
     "text": [
      "\n",
      "--- Iniciando Paso 5: Ensamble Heterogéneo (Stacking) ---\n",
      "Generando predicciones OOF para XGBoost (necesario para Stacking)...\n",
      "Predicciones OOF de XGBoost generadas.\n"
     ]
    }
   ],
   "source": [
    "# --- Generación de Predicciones \"Out-of-Fold\" (OOF) para XGBoost ---\n",
    "\n",
    "print(\"\\n--- Iniciando Paso 5: Ensamble Heterogéneo (Stacking) ---\")\n",
    "print(\"Generando predicciones OOF para XGBoost (necesario para Stacking)...\")\n",
    "\n",
    "# Se inicializa un array vacío para guardar las predicciones\n",
    "# El tamaño debe coincidir con X_train (que es más corto que train_ts)\n",
    "train_pred_xgb_oof = np.full(len(X_train), np.nan)\n",
    "\n",
    "# Se usa el mismo TimeSeriesSplit de antes\n",
    "tscv_oof = TimeSeriesSplit(n_splits=3) \n",
    "\n",
    "# Se obtienen los mejores parámetros de XGBoost que ya encontramos\n",
    "best_xgb_params = grid_search_xgb.best_params_\n",
    "\n",
    "for train_idx, val_idx in tscv_oof.split(X_train):\n",
    "    # Se preparan los folds\n",
    "    X_train_fold, X_val_fold = X_train.iloc[train_idx], X_train.iloc[val_idx]\n",
    "    y_train_fold = y_train.iloc[train_idx]\n",
    "    \n",
    "    # Se entrena un modelo SOLO en el fold de entrenamiento\n",
    "    m_oof = xgb.XGBRegressor(objective='reg:squarederror', \n",
    "                             random_state=42, \n",
    "                             **best_xgb_params)\n",
    "    m_oof.fit(X_train_fold, y_train_fold)\n",
    "    \n",
    "    # Se predice SOLAMENTE en el fold de validación\n",
    "    y_pred_oof = m_oof.predict(X_val_fold)\n",
    "    \n",
    "    # Se guardan las predicciones OOF en sus posiciones correctas\n",
    "    train_pred_xgb_oof[val_idx] = y_pred_oof\n",
    "\n",
    "print(\"Predicciones OOF de XGBoost generadas.\")"
   ]
  },
  {
   "cell_type": "markdown",
   "id": "d175df03",
   "metadata": {},
   "source": [
    "#### 5.2 Creación del DataFrame para Stacking"
   ]
  },
  {
   "cell_type": "markdown",
   "id": "06f5dcd2",
   "metadata": {},
   "source": [
    "Se crea un nuevo DataFrame donde cada columna es la predicción OOF de uno de los modelos base. Este será el conjunto de entrenamiento (X_train) para nuestro meta-modelo. Se debe tener cuidado de alinear correctamente las predicciones, ya que los modelos se basaron en DataFrames de entrenamiento de diferentes longitudes (train_ts vs train_fe)."
   ]
  },
  {
   "cell_type": "code",
   "execution_count": 120,
   "id": "b20129fe",
   "metadata": {},
   "outputs": [
    {
     "name": "stdout",
     "output_type": "stream",
     "text": [
      "Filas antes de limpiar NaNs (Stacking Train): 453\n",
      "Filas después de limpiar NaNs (Stacking Train): 339\n",
      "\n",
      "DataFrame para Stacking creado y alineado.\n"
     ]
    }
   ],
   "source": [
    "# --- Creación del DataFrame para Stacking ---\n",
    "\n",
    "# Se crea la base del DataFrame de entrenamiento usando el índice de 'y_train'\n",
    "stack_train_df = pd.DataFrame(index=y_train.index)\n",
    "stack_train_df['y_true'] = y_train.values\n",
    "stack_train_df['xgb'] = train_pred_xgb_oof\n",
    "\n",
    "# Se alinean las predicciones de Prophet y SARIMAX (que son más largas)\n",
    "# Se convierten a Series con el índice de train_ts para unirlas por fecha\n",
    "prophet_oof_series = pd.Series(train_pred_prophet_oof, index=train_ts.index, name='prophet')\n",
    "sarimax_oof_series = pd.Series(train_pred_sarimax_oof, index=train_ts.index, name='sarimax')\n",
    "\n",
    "# Se unen al DataFrame de stacking usando el índice (las fechas)\n",
    "stack_train_df = stack_train_df.join(prophet_oof_series)\n",
    "stack_train_df = stack_train_df.join(sarimax_oof_series)\n",
    "\n",
    "# Se eliminan los NaNs iniciales generados por el TimeSeriesSplit\n",
    "print(f\"Filas antes de limpiar NaNs (Stacking Train): {len(stack_train_df)}\")\n",
    "stack_train_df.dropna(inplace=True)\n",
    "print(f\"Filas después de limpiar NaNs (Stacking Train): {len(stack_train_df)}\")\n",
    "\n",
    "# Se separan los datos de entrenamiento para el meta-modelo\n",
    "y_train_stack_clean = stack_train_df['y_true']\n",
    "X_train_stack_clean = stack_train_df.drop('y_true', axis=1)\n",
    "\n",
    "# Se crea el DataFrame de prueba (Test) para el meta-modelo\n",
    "stack_test_df = pd.DataFrame({\n",
    "    'xgb': y_pred_xgb,\n",
    "    'prophet': test_pred_prophet,\n",
    "    'sarimax': test_pred_sarimax\n",
    "})\n",
    "y_test_stack = y_test.values\n",
    "\n",
    "print(\"\\nDataFrame para Stacking creado y alineado.\")"
   ]
  },
  {
   "cell_type": "markdown",
   "id": "c1f7b5ab",
   "metadata": {},
   "source": [
    "#### 5.3 Entrenamiento y Evaluación del Modelo Stacking"
   ]
  },
  {
   "cell_type": "code",
   "execution_count": 122,
   "id": "597a6620",
   "metadata": {},
   "outputs": [
    {
     "name": "stdout",
     "output_type": "stream",
     "text": [
      "\n",
      "Entrenando el meta-modelo de Stacking (Regresión Lineal)...\n",
      "Tiempo de Entrenamiento (Stacking): 0.01 segundos\n",
      "\n",
      "Métricas de Stacking (Heterogéneo):\n",
      "MAE:  8.83\n",
      "RMSE: 11.93\n",
      "MAPE: 19.83%\n"
     ]
    }
   ],
   "source": [
    "# --- Entrenamiento y Evaluación del Stacking ---\n",
    "\n",
    "print(\"\\nEntrenando el meta-modelo de Stacking (Regresión Lineal)...\")\n",
    "start_time_stack_train = time.time()\n",
    "\n",
    "# Se define el meta-modelo\n",
    "meta_model = LinearRegression()\n",
    "\n",
    "# Se entrena el meta-modelo\n",
    "meta_model.fit(X_train_stack_clean, y_train_stack_clean)\n",
    "\n",
    "training_time_stack = time.time() - start_time_stack_train\n",
    "print(f\"Tiempo de Entrenamiento (Stacking): {training_time_stack:.2f} segundos\")\n",
    "\n",
    "# Se evalúa el modelo de Stacking\n",
    "y_pred_stack = meta_model.predict(stack_test_df)\n",
    "\n",
    "# Se calculan las métricas\n",
    "mae_stack = mean_absolute_error(y_test_stack, y_pred_stack)\n",
    "rmse_stack = np.sqrt(mean_squared_error(y_test_stack, y_pred_stack))\n",
    "mape_stack = mean_absolute_percentage_error(y_test_stack, y_pred_stack) * 100\n",
    "\n",
    "print(\"\\nMétricas de Stacking (Heterogéneo):\")\n",
    "print(f\"MAE:  {mae_stack:.2f}\")\n",
    "print(f\"RMSE: {rmse_stack:.2f}\")\n",
    "print(f\"MAPE: {mape_stack:.2f}%\")"
   ]
  },
  {
   "cell_type": "markdown",
   "id": "7a1387b1",
   "metadata": {},
   "source": [
    "#### 5.4 Recopilación de resultados Stacking"
   ]
  },
  {
   "cell_type": "code",
   "execution_count": 123,
   "id": "a49ed8b0",
   "metadata": {},
   "outputs": [
    {
     "name": "stdout",
     "output_type": "stream",
     "text": [
      "--- Fin del Paso 5: Ensamble Heterogéneo (Stacking) ---\n"
     ]
    }
   ],
   "source": [
    "# --- Recopilación de resultados Stacking ---\n",
    "\n",
    "# Se guardan los resultados\n",
    "results_summary['Stacking'] = {\n",
    "    'MAE': mae_stack,\n",
    "    'RMSE': rmse_stack,\n",
    "    'MAPE': mape_stack,\n",
    "    'Tiempo': training_time_stack\n",
    "}\n",
    "\n",
    "print(\"--- Fin del Paso 5: Ensamble Heterogéneo (Stacking) ---\")"
   ]
  },
  {
   "cell_type": "markdown",
   "id": "23987d39",
   "metadata": {},
   "source": [
    "### 6. Tabla Comparativa de Modelos"
   ]
  },
  {
   "cell_type": "markdown",
   "id": "ecd56213",
   "metadata": {},
   "source": [
    "Se sintetizarán todos los resultados en una tabla comparativa. El objetivo es ordenar los modelos por la métrica principal (MAPE en este caso, ya que es la más interpretable) para identificar los datos obtenidos"
   ]
  },
  {
   "cell_type": "code",
   "execution_count": 129,
   "id": "5e30413d",
   "metadata": {},
   "outputs": [
    {
     "name": "stdout",
     "output_type": "stream",
     "text": [
      "\n",
      "--- Iniciando Paso 6: Tabla Comparativa ---\n",
      "\n",
      "--- Tabla Comparativa Final de Modelos ---\n",
      "|          | MAE   | RMSE   | MAPE   | Tiempo   | Tiempo_Optimizacion   |\n",
      "|:---------|:------|:-------|:-------|:---------|:----------------------|\n",
      "| XGBoost  | 3.87  | 5.36   | 9.90%  | 0.19 s   | 11.2079               |\n",
      "| Stacking | 8.83  | 11.93  | 19.83% | 0.01 s   | nan                   |\n",
      "| Prophet  | 14.58 | 18.73  | 30.57% | 0.26 s   | 14.1524               |\n",
      "| SARIMAX  | 19.31 | 44.97  | 53.24% | 43.17 s  | 1295.95               |\n",
      "\n",
      "El modelo con menor MAPE es: XGBoost\n"
     ]
    }
   ],
   "source": [
    "# --- TABLA COMPARATIVA DE MODELOS ---\n",
    "\n",
    "print(\"\\n--- Iniciando Paso 6: Tabla Comparativa ---\")\n",
    "\n",
    "# Se crea un DataFrame a partir del diccionario 'results_summary'\n",
    "results_df = pd.DataFrame.from_dict(results_summary, orient='index')\n",
    "\n",
    "# Se ordena el DataFrame por la métrica principal (MAPE) de forma ascendente\n",
    "results_df.sort_values(by='MAPE', ascending=True, inplace=True)\n",
    "\n",
    "# Se da formato a la tabla para una mejor visualización\n",
    "results_df['MAE'] = results_df['MAE'].round(2)\n",
    "results_df['RMSE'] = results_df['RMSE'].round(2)\n",
    "results_df['MAPE'] = results_df['MAPE'].apply(lambda x: f\"{x:.2f}%\")\n",
    "results_df['Tiempo'] = results_df['Tiempo'].apply(lambda x: f\"{x:.2f} s\")\n",
    "\n",
    "print(\"\\n--- Tabla Comparativa Final de Modelos ---\")\n",
    "print(results_df.to_markdown(numalign=\"left\", stralign=\"left\"))\n",
    "\n",
    "# Se identifica al ganador para el siguiente paso\n",
    "modelo_ganador_nombre = results_df.index[0]\n",
    "print(f\"\\nEl modelo con menor MAPE es: {modelo_ganador_nombre}\")"
   ]
  },
  {
   "cell_type": "markdown",
   "id": "f09feb85",
   "metadata": {},
   "source": [
    "### 7. Elección y Análisis del Modelo Final"
   ]
  },
  {
   "cell_type": "markdown",
   "id": "8e72c15c",
   "metadata": {},
   "source": [
    "Basado en la tabla comparativa, se elige el modelo XGBoost como el modelo final."
   ]
  },
  {
   "cell_type": "code",
   "execution_count": 130,
   "id": "b07548d1",
   "metadata": {},
   "outputs": [
    {
     "name": "stdout",
     "output_type": "stream",
     "text": [
      "\n",
      "--- Iniciando Paso 7: Análisis del Modelo Ganador (XGBoost) ---\n"
     ]
    },
    {
     "data": {
      "image/png": "[encoded data removed]",
      "text/plain": [
       "<Figure size 1500x600 with 2 Axes>"
      ]
     },
     "metadata": {},
     "output_type": "display_data"
    },
    {
     "data": {
      "image/png": "[encoded data removed]",
      "text/plain": [
       "<Figure size 1000x800 with 1 Axes>"
      ]
     },
     "metadata": {},
     "output_type": "display_data"
    },
    {
     "data": {
      "image/png": "[encoded data removed]",
      "text/plain": [
       "<Figure size 1500x600 with 1 Axes>"
      ]
     },
     "metadata": {},
     "output_type": "display_data"
    },
    {
     "name": "stdout",
     "output_type": "stream",
     "text": [
      "--- Fin del Análisis ---\n"
     ]
    }
   ],
   "source": [
    "# --- ANÁLISIS DEL MODELO GANADOR (XGBoost) ---\n",
    "\n",
    "print(f\"\\n--- Iniciando Paso 7: Análisis del Modelo Ganador ({modelo_ganador_nombre}) ---\")\n",
    "\n",
    "# Se usa el mejor modelo XGBoost que ya estaba entrenado\n",
    "# best_xgb = grid_search_xgb.best_estimator_ (del Paso 1)\n",
    "# y_pred_xgb (del Paso 1)\n",
    "\n",
    "# --- Análisis de Residuos ---\n",
    "# Los residuos son la diferencia entre los valores reales y los predichos.\n",
    "residuos_xgb = y_test - y_pred_xgb\n",
    "\n",
    "plt.figure(figsize=(15, 6))\n",
    "\n",
    "# Gráfico de Residuos a lo largo del tiempo\n",
    "plt.subplot(1, 2, 1)\n",
    "plt.plot(test_fe.index, residuos_xgb, marker='.', linestyle='None')\n",
    "plt.axhline(0, color='red', linestyle='--')\n",
    "plt.title('Análisis de Residuos (Errores) a lo largo del tiempo')\n",
    "plt.xlabel('Fecha')\n",
    "plt.ylabel('Error (Real - Predicho)')\n",
    "plt.grid(True, alpha=0.3)\n",
    "\n",
    "# Histograma de Residuos\n",
    "plt.subplot(1, 2, 2)\n",
    "sns.histplot(residuos_xgb, kde=True)\n",
    "plt.title('Distribución de los Errores (Residuos)')\n",
    "plt.xlabel('Error')\n",
    "plt.ylabel('Frecuencia')\n",
    "\n",
    "plt.tight_layout()\n",
    "plt.show()\n",
    "\n",
    "# --- Gráfico de Importancia de Características ---\n",
    "# Este gráfico nos dice qué variables consideró más importantes el XGBoost.\n",
    "plt.figure(figsize=(10, 8))\n",
    "# Se obtienen las importancias\n",
    "importancias = final_xgb_model.feature_importances_\n",
    "# Se crea un DataFrame para graficar\n",
    "feature_names = X_train.columns\n",
    "importancia_df = pd.DataFrame({'Característica': feature_names, 'Importancia': importancias})\n",
    "importancia_df.sort_values(by='Importancia', ascending=False, inplace=True)\n",
    "\n",
    "# Se grafica\n",
    "sns.barplot(x='Importancia', y='Característica', data=importancia_df)\n",
    "plt.title('Importancia de Características del Modelo XGBoost')\n",
    "plt.show()\n",
    "\n",
    "\n",
    "# --- Gráfico de Tendencia y Predicción ---\n",
    "# (Este es el gráfico de evaluación que ya habíamos planeado)\n",
    "plt.figure(figsize=(15, 6))\n",
    "plt.plot(test_fe.index, y_test, 'o-', label='Datos Reales (Prueba)')\n",
    "plt.plot(test_fe.index, y_pred_xgb, 'x--', label='Pronóstico XGBoost (Ganador)')\n",
    "plt.plot(train_fe.index[-52:], train_fe['total_cases'][-52:], label='Datos de Entrenamiento (Último Año)', color='gray', linestyle='--')\n",
    "plt.title(f'Pronóstico del Modelo Ganador ({modelo_ganador_nombre}) vs. Reales')\n",
    "plt.legend(); plt.grid(alpha=0.3); plt.tight_layout(); plt.show()\n",
    "\n",
    "print(\"--- Fin del Análisis ---\")"
   ]
  },
  {
   "cell_type": "markdown",
   "id": "93adcc51",
   "metadata": {},
   "source": [
    "### Conclusiones"
   ]
  },
  {
   "cell_type": "markdown",
   "id": "4135bc23",
   "metadata": {},
   "source": [
    "Tras la implementación y evaluación de los modelos individuales (Prophet, SARIMAX) y los ensambles (XGBoost como homogéneo y Stacking como heterogéneo), la tabla comparativa de resultados nos ofrece una visión del rendimiento de cada enfoque.\n",
    "\n",
    "Observaciones Clave\n",
    "\n",
    "    Dominancia de XGBoost: El modelo XGBoost se percibe como el más adecuado en términos de precisión (MAPE de 9.90%) y eficiencia computacional (entrenamiento en 0.19 segundos). Este rendimiento superior se atribuye en gran medida al impacto significativo de las características de ingeniería, especialmente la variables de retraso (lags) y las ventanas móviles. El análisis de importancia de características confirma que Lag_1_semana es, con diferencia, el predictor más influyente.\n",
    "\n",
    "    Implicación Práctica de la Dependencia del Lag 1: Si bien la alta importancia del lag más reciente impulsa la precisión, también introduce una dependencia operativa. El rendimiento del modelo XGBoost está fuertemente ligado a la disponibilidad inmediata del dato de la semana anterior. Esto es una consideración importante para el IMSS, ya que cualquier retraso en el reporte o consolidación de los datos semanales podría impactar la capacidad de generar un pronóstico oportuno con este modelo.\n",
    "\n",
    "    Stacking No Supera al Mejor Individual: El ensamble heterogéneo (Stacking), con un MAPE de 19.83%, no logró mejorar la precisión de XGBoost. Este resultado sugiere que la combinación de modelos con rendimientos tan dispares no aportó valor adicional, posiblemente porque la fuerte señal de XGBoost fue diluida por el ruido de los modelos menos precisos.\n",
    "\n",
    "    Limitaciones de los Modelos de Series de Tiempo Puros: Prophet (MAPE 30.57%) y SARIMAX (MAPE 53.24%) mostraron un rendimiento inferior y, en el caso de SARIMAX, un costo computacional significativamente mayor. Esto refuerza la idea de que, para esta serie temporal agregada, un enfoque basado en características explícitas fue más efectivo.\n",
    "\n",
    "\n",
    "Selección del Modelo y Consideraciones Futuras\n",
    "\n",
    "Basado en la evidencia experimental (mayor precisión y eficiencia), se selecciona el modelo XGBoost como el modelo final para esta etapa. Sin embargo, se reconoce la dependencia operativa mencionada respecto al Lag_1. Para mitigar este riesgo en una implementación futura, se podrían explorar dos estrategias:\n",
    "\n",
    "    Ingeniería de Características Alternativa: Investigar si modelos basados en lags más antiguos (Lag_2, Lag_3, etc.) o en características menos dependientes del tiempo inmediato (como promedios móviles más largos) pueden ofrecer un balance aceptable entre precisión y robustez ante retrasos.\n",
    "\n",
    "    Evaluación del Impacto del Retraso: Simular escenarios donde el dato de Lag_1 no esté disponible y evaluar cuánto se degrada la precisión del modelo XGBoost. Esto ayudaría al IMSS a entender el riesgo real.\n",
    "\n",
    "Como exploración adicional, también se podría considerar un ensamble Stacking más selectivo (XGBoost + Prophet). No obstante, por ahora, XGBoost se mantiene como la solución más adecuada, con la advertencia sobre su dependencia del dato más reciente."
   ]
  }
 ],
 "metadata": {
  "kernelspec": {
   "display_name": ".venv",
   "language": "python",
   "name": "python3"
  },
  "language_info": {
   "codemirror_mode": {
    "name": "ipython",
    "version": 3
   },
   "file_extension": ".py",
   "mimetype": "text/x-python",
   "name": "python",
   "nbconvert_exporter": "python",
   "pygments_lexer": "ipython3",
   "version": "3.13.7"
  }
 },
 "nbformat": 4,
 "nbformat_minor": 5
}
